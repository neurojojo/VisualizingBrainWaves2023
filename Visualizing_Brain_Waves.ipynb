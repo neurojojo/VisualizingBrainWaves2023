{
  "nbformat": 4,
  "nbformat_minor": 0,
  "metadata": {
    "colab": {
      "name": "Visualizing Brain Waves",
      "provenance": [],
      "include_colab_link": true
    },
    "kernelspec": {
      "name": "python3",
      "display_name": "Python 3"
    }
  },
  "cells": [
    {
      "cell_type": "markdown",
      "metadata": {
        "id": "view-in-github",
        "colab_type": "text"
      },
      "source": [
        "<a href=\"https://colab.research.google.com/github/pkoneill/VisualizingBrainWaves/blob/main/Visualizing_Brain_Waves.ipynb\" target=\"_parent\"><img src=\"https://colab.research.google.com/assets/colab-badge.svg\" alt=\"Open In Colab\"/></a>"
      ]
    },
    {
      "cell_type": "markdown",
      "metadata": {
        "id": "utUTgK_IHp4M"
      },
      "source": [
        "## Objectives\n",
        "In this tutorial, we will explore how filter built into an electroencephalogram (EEG) work to block unwanted signals from the recording electrodes and pass the meaningful signals coming from the underyling neural activity.\n",
        "\n"
      ]
    },
    {
      "cell_type": "markdown",
      "metadata": {
        "id": "UiMAF65jHeve"
      },
      "source": [
        "---\n",
        "## Imports and helper functions\n",
        "First, we'll need to import some Python packages that will allow us to simulate and plot data for this session. Please execute the cell(s) below to initialize the notebook environment.\n"
      ]
    },
    {
      "cell_type": "code",
      "metadata": {
        "id": "d_jVjONrxi8j"
      },
      "source": [
        "%matplotlib inline\n",
        "import matplotlib\n",
        "import numpy as np\n",
        "import wave, math\n",
        "\n",
        "from matplotlib import pyplot as plt"
      ],
      "execution_count": null,
      "outputs": []
    },
    {
      "cell_type": "code",
      "metadata": {
        "id": "hiLyQ-UrOI3y"
      },
      "source": [
        "#@ title Figure Settings\n",
        "%matplotlib inline\n",
        "%config InlineBackend.figure_format = 'retina'\n"
      ],
      "execution_count": null,
      "outputs": []
    }
  ]
}