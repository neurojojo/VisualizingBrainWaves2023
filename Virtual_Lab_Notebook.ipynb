{
  "nbformat": 4,
  "nbformat_minor": 0,
  "metadata": {
    "colab": {
      "name": "VirtualLabNotebook.ipynb",
      "provenance": [],
      "toc_visible": true,
      "authorship_tag": "ABX9TyOG6EOUMImDCVoub19DYv5g",
      "include_colab_link": true
    },
    "kernelspec": {
      "name": "python3",
      "display_name": "Python 3"
    },
    "language_info": {
      "name": "python"
    }
  },
  "cells": [
    {
      "cell_type": "markdown",
      "metadata": {
        "id": "view-in-github",
        "colab_type": "text"
      },
      "source": [
        "<a href=\"https://colab.research.google.com/github/pkoneill/VisualizingBrainWaves/blob/main/Virtual_Lab_Notebook.ipynb\" target=\"_parent\"><img src=\"https://colab.research.google.com/assets/colab-badge.svg\" alt=\"Open In Colab\"/></a>"
      ]
    },
    {
      "cell_type": "markdown",
      "metadata": {
        "id": "gErILSYIDzmT"
      },
      "source": [
        "#WELCOME TO YOUR VIRTUAL LAB NOTEBOOK\n",
        "Use this notebook to answer questions, jot down your thoughts and think up more questions as you progress through the Virtual Neurophysiology Lab and Filter Lab! Double clicking will allow you to access and modify the source code for this text. Double click on the right hand side of this cell to collapse again.\n",
        "\n",
        "To add a new text cell Click on  **+ Text** either at top menu bar OR in between cells."
      ]
    },
    {
      "cell_type": "markdown",
      "metadata": {
        "id": "3lUuc10iD-46"
      },
      "source": [
        "# Virtual Neurophysiology Lab Notes\n",
        "\n",
        "QUESTION 1: What are the \n",
        "\n",
        "\n",
        "QUESTION 2: What are the \n",
        "\n",
        "\n",
        "QUESTION 3: What are the \n",
        "\n",
        "\n",
        "QUESTION 4: What are the "
      ]
    },
    {
      "cell_type": "markdown",
      "metadata": {
        "id": "MUzoVmlTE2To"
      },
      "source": [
        "###Additional notes  here:"
      ]
    },
    {
      "cell_type": "markdown",
      "metadata": {
        "id": "X0Lta9DOECVz"
      },
      "source": [
        "# Filter Lab Notes\n",
        "\n",
        "QUESTION 1: What are the \n",
        "\n",
        "\n",
        "QUESTION 2: What are the \n",
        "\n",
        "\n",
        "QUESTION 3: What are the \n",
        "\n",
        "\n",
        "QUESTION 4: What are the "
      ]
    }
  ]
}