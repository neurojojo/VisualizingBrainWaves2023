{
  "nbformat": 4,
  "nbformat_minor": 0,
  "metadata": {
    "colab": {
      "name": "Copy of VirtualLabNotebook.ipynb",
      "provenance": [],
      "collapsed_sections": [],
      "include_colab_link": true
    },
    "kernelspec": {
      "name": "python3",
      "display_name": "Python 3"
    },
    "language_info": {
      "name": "python"
    }
  },
  "cells": [
    {
      "cell_type": "markdown",
      "metadata": {
        "id": "view-in-github",
        "colab_type": "text"
      },
      "source": [
        "<a href=\"https://colab.research.google.com/github/pkoneill/VisualizingBrainWaves/blob/main/Virtual_Lab_Notebook.ipynb\" target=\"_parent\"><img src=\"https://colab.research.google.com/assets/colab-badge.svg\" alt=\"Open In Colab\"/></a>"
      ]
    },
    {
      "cell_type": "markdown",
      "metadata": {
        "id": "gErILSYIDzmT"
      },
      "source": [
        "#WELCOME TO YOUR VIRTUAL LAB NOTEBOOK\n",
        "Use this notebook to answer questions, jot down your thoughts and think up more questions as you progress through the Virtual Neurophysiology Lab! \n",
        "\n",
        "Double click here and you'll be able to modify the source code for this text. Double click on the right hand side of this cell to collapse again.\n",
        "\n",
        "To add a new text cell Click on  **+ Text** either at top menu bar OR when hovering in between cells."
      ]
    },
    {
      "cell_type": "markdown",
      "metadata": {
        "id": "3lUuc10iD-46"
      },
      "source": [
        "## Virtual Neurophysiology Lab Notes\n",
        "\n",
        "Hello! Welcome to your first day in the lab.\n",
        "\n",
        "On the screen, you'll see your *preparation*, which is a word scientists use to talk about the physical objects that they are observing in the lab. In your case, you have three neurons. You have three tools at your disposal: a recording electrode (top), a twisted tungsten electrode for applying little jolts of electricity (bottom), and an observation panel -- this is usually a computer screen (right).\n",
        "\n",
        "Move your mouse over various parts of the preparation and You will use the directional pad on your computer keyboard to move your instruments around. \n",
        "\n",
        "<img src=\"https://www.computerhope.com/jargon/a/arrow-keys.jpg\">\n",
        "\n",
        "\n",
        "When your instruments are in place, you can begin stimulating. Press the Enter key! Experiment until you are able to start collecting data. Ask us if you have any questions.\n",
        "\n",
        "\n",
        "**QUESTION 1:** What was the configuration of the two electrodes that allowed you to start seeing responses on the observation panel?\n",
        "\n",
        "**QUESTION 2:** Describe the variety of responses that you see. Remember, science is about making lots of observations.\n",
        "\n",
        "\n",
        "**QUESTION 3:** Create one or more hypotheses about what is happening within your *preparation* that would explain the responses you see. \n",
        "\n",
        "**QUESTION 4:** How are the observations you made here related to the waves that Hans Berger was able to see with his primitive EEG?"
      ]
    },
    {
      "cell_type": "markdown",
      "metadata": {
        "id": "MUzoVmlTE2To"
      },
      "source": [
        "###Additional notes  here:"
      ]
    }
  ]
}