{
  "nbformat": 4,
  "nbformat_minor": 0,
  "metadata": {
    "colab": {
      "name": "Visualizing Brain Waves_EEG Data",
      "provenance": [],
      "authorship_tag": "ABX9TyM5+p+tIh5AFSJ6aU/pHmy6",
      "include_colab_link": true
    },
    "kernelspec": {
      "name": "python3",
      "display_name": "Python 3"
    },
    "language_info": {
      "name": "python"
    }
  },
  "cells": [
    {
      "cell_type": "markdown",
      "metadata": {
        "id": "view-in-github",
        "colab_type": "text"
      },
      "source": [
        "<a href=\"https://colab.research.google.com/github/pkoneill/VisualizingBrainWaves/blob/main/Visualizing_Brain_Waves_EEG_Data.ipynb\" target=\"_parent\"><img src=\"https://colab.research.google.com/assets/colab-badge.svg\" alt=\"Open In Colab\"/></a>"
      ]
    },
    {
      "cell_type": "code",
      "metadata": {
        "id": "AaZYDE6-840z",
        "colab": {
          "base_uri": "https://localhost:8080/",
          "height": 542
        },
        "outputId": "ef7d7e75-02a0-45b6-a4f7-7da414acf8b4"
      },
      "source": [
        "import plotly.graph_objects as go\n",
        "\n",
        "fig = go.Figure(go.Barpolar(\n",
        "    r=[3.5, 1.5, 2.5, 4.5, 4.5, 4, 3],\n",
        "    theta=[65, 15, 210, 110, 312.5, 180, 270],\n",
        "    width=[20,15,10,20,15,30,15,],\n",
        "    marker_color=[\"#E4FF87\", '#709BFF', '#709BFF', '#FFAA70', '#FFAA70', '#FFDF70', '#B6FFB4'],\n",
        "    marker_line_color=\"black\",\n",
        "    marker_line_width=2,\n",
        "    opacity=0.8\n",
        "))\n",
        "\n",
        "fig.update_layout(\n",
        "    template=None,\n",
        "    polar = dict(\n",
        "        radialaxis = dict(range=[0, 5], showticklabels=False, ticks=''),\n",
        "        angularaxis = dict(showticklabels=False, ticks='')\n",
        "    )\n",
        ")\n",
        "\n",
        "fig.show()"
      ],
      "execution_count": null,
      "outputs": [
        {
          "output_type": "display_data",
          "data": {
            "text/html": [
              "<html>\n",
              "<head><meta charset=\"utf-8\" /></head>\n",
              "<body>\n",
              "    <div>\n",
              "            <script src=\"https://cdnjs.cloudflare.com/ajax/libs/mathjax/2.7.5/MathJax.js?config=TeX-AMS-MML_SVG\"></script><script type=\"text/javascript\">if (window.MathJax) {MathJax.Hub.Config({SVG: {font: \"STIX-Web\"}});}</script>\n",
              "                <script type=\"text/javascript\">window.PlotlyConfig = {MathJaxConfig: 'local'};</script>\n",
              "        <script src=\"https://cdn.plot.ly/plotly-latest.min.js\"></script>    \n",
              "            <div id=\"a3ce390c-3265-4808-ba38-8c400c9fb6b8\" class=\"plotly-graph-div\" style=\"height:525px; width:100%;\"></div>\n",
              "            <script type=\"text/javascript\">\n",
              "                \n",
              "                    window.PLOTLYENV=window.PLOTLYENV || {};\n",
              "                    \n",
              "                if (document.getElementById(\"a3ce390c-3265-4808-ba38-8c400c9fb6b8\")) {\n",
              "                    Plotly.newPlot(\n",
              "                        'a3ce390c-3265-4808-ba38-8c400c9fb6b8',\n",
              "                        [{\"marker\": {\"color\": [\"#E4FF87\", \"#709BFF\", \"#709BFF\", \"#FFAA70\", \"#FFAA70\", \"#FFDF70\", \"#B6FFB4\"], \"line\": {\"color\": \"black\", \"width\": 2}}, \"opacity\": 0.8, \"r\": [3.5, 1.5, 2.5, 4.5, 4.5, 4, 3], \"theta\": [65, 15, 210, 110, 312.5, 180, 270], \"type\": \"barpolar\", \"width\": [20, 15, 10, 20, 15, 30, 15]}],\n",
              "                        {\"polar\": {\"angularaxis\": {\"showticklabels\": false, \"ticks\": \"\"}, \"radialaxis\": {\"range\": [0, 5], \"showticklabels\": false, \"ticks\": \"\"}}, \"template\": {}},\n",
              "                        {\"responsive\": true}\n",
              "                    ).then(function(){\n",
              "                            \n",
              "var gd = document.getElementById('a3ce390c-3265-4808-ba38-8c400c9fb6b8');\n",
              "var x = new MutationObserver(function (mutations, observer) {{\n",
              "        var display = window.getComputedStyle(gd).display;\n",
              "        if (!display || display === 'none') {{\n",
              "            console.log([gd, 'removed!']);\n",
              "            Plotly.purge(gd);\n",
              "            observer.disconnect();\n",
              "        }}\n",
              "}});\n",
              "\n",
              "// Listen for the removal of the full notebook cells\n",
              "var notebookContainer = gd.closest('#notebook-container');\n",
              "if (notebookContainer) {{\n",
              "    x.observe(notebookContainer, {childList: true});\n",
              "}}\n",
              "\n",
              "// Listen for the clearing of the current output cell\n",
              "var outputEl = gd.closest('.output');\n",
              "if (outputEl) {{\n",
              "    x.observe(outputEl, {childList: true});\n",
              "}}\n",
              "\n",
              "                        })\n",
              "                };\n",
              "                \n",
              "            </script>\n",
              "        </div>\n",
              "</body>\n",
              "</html>"
            ]
          },
          "metadata": {
            "tags": []
          }
        }
      ]
    },
    {
      "cell_type": "code",
      "metadata": {
        "colab": {
          "base_uri": "https://localhost:8080/",
          "height": 542
        },
        "id": "cup9AQlMo81C",
        "outputId": "3d34e30e-ee84-4bdb-ac00-dfa48359fefd"
      },
      "source": [
        "import plotly.graph_objects as go\n",
        "import pandas as pd\n",
        "\n",
        "df = pd.read_csv(\"https://raw.githubusercontent.com/plotly/datasets/master/hobbs-pearson-trials.csv\")\n",
        "\n",
        "fig = go.Figure()\n",
        "\n",
        "fig.add_trace(go.Scatterpolargl(\n",
        "      r = df.trial_1_r,\n",
        "      theta = df.trial_1_theta,\n",
        "      name = \"Trial 1\",\n",
        "      marker=dict(size=15, color=\"mediumseagreen\")\n",
        "    ))\n",
        "fig.add_trace(go.Scatterpolargl(\n",
        "      r = df.trial_2_r,\n",
        "      theta = df.trial_2_theta,\n",
        "      name = \"Trial 2\",\n",
        "      marker=dict(size=20, color=\"darkorange\")\n",
        "    ))\n",
        "fig.add_trace(go.Scatterpolargl(\n",
        "      r = df.trial_3_r,\n",
        "      theta = df.trial_3_theta,\n",
        "      name = \"Trial 3\",\n",
        "      marker=dict(size=12, color=\"mediumpurple\")\n",
        "    ))\n",
        "fig.add_trace(go.Scatterpolargl(\n",
        "      r = df.trial_4_r,\n",
        "      theta = df.trial_4_theta,\n",
        "      name = \"Trial 4\",\n",
        "      marker=dict(size=22, color = \"magenta\")\n",
        "    ))\n",
        "fig.add_trace(go.Scatterpolargl(\n",
        "      r = df.trial_5_r,\n",
        "      theta = df.trial_5_theta,\n",
        "      name = \"Trial 5\",\n",
        "      marker=dict(size=19, color = \"limegreen\")\n",
        "      ))\n",
        "fig.add_trace(go.Scatterpolargl(\n",
        "      r = df.trial_6_r,\n",
        "      theta = df.trial_6_theta,\n",
        "      name = \"Trial 6\",\n",
        "      marker=dict(size=10, color = \"gold\")\n",
        "      ))\n",
        "\n",
        "# Common parameters for all traces\n",
        "fig.update_traces(mode=\"markers\", marker=dict(line_color='white', opacity=0.7))\n",
        "\n",
        "fig.update_layout(\n",
        "    title = \"Hobbs-Pearson Trials\",\n",
        "    font_size = 15,\n",
        "    showlegend = False,\n",
        "    polar = dict(\n",
        "      bgcolor = \"rgb(223, 223, 223)\",\n",
        "      angularaxis = dict(\n",
        "        linewidth = 3,\n",
        "        showline=True,\n",
        "        linecolor='black'\n",
        "      ),\n",
        "      radialaxis = dict(\n",
        "        side = \"counterclockwise\",\n",
        "        showline = True,\n",
        "        linewidth = 2,\n",
        "        gridcolor = \"white\",\n",
        "        gridwidth = 2,\n",
        "      )\n",
        "    ),\n",
        "    paper_bgcolor = \"rgb(223, 223, 223)\"\n",
        ")\n",
        "\n",
        "fig.show()"
      ],
      "execution_count": null,
      "outputs": [
        {
          "output_type": "display_data",
          "data": {
            "text/html": [
              "<html>\n",
              "<head><meta charset=\"utf-8\" /></head>\n",
              "<body>\n",
              "    <div>\n",
              "            <script src=\"https://cdnjs.cloudflare.com/ajax/libs/mathjax/2.7.5/MathJax.js?config=TeX-AMS-MML_SVG\"></script><script type=\"text/javascript\">if (window.MathJax) {MathJax.Hub.Config({SVG: {font: \"STIX-Web\"}});}</script>\n",
              "                <script type=\"text/javascript\">window.PlotlyConfig = {MathJaxConfig: 'local'};</script>\n",
              "        <script src=\"https://cdn.plot.ly/plotly-latest.min.js\"></script>    \n",
              "            <div id=\"c85d75e2-de89-4bc6-851a-9437fb0ec90a\" class=\"plotly-graph-div\" style=\"height:525px; width:100%;\"></div>\n",
              "            <script type=\"text/javascript\">\n",
              "                \n",
              "                    window.PLOTLYENV=window.PLOTLYENV || {};\n",
              "                    \n",
              "                if (document.getElementById(\"c85d75e2-de89-4bc6-851a-9437fb0ec90a\")) {\n",
              "                    Plotly.newPlot(\n",
              "                        'c85d75e2-de89-4bc6-851a-9437fb0ec90a',\n",
              "                        [{\"marker\": {\"color\": \"mediumseagreen\", \"line\": {\"color\": \"white\"}, \"opacity\": 0.7, \"size\": 15}, \"mode\": \"markers\", \"name\": \"Trial 1\", \"r\": [6.804985785, 3.389596011, 5.381472111, 8.059540219, 5.318229228, 2.985099936, 1.9665870019999998, 6.769265408, 4.073401898999999, 6.504371825, 7.5563698189999995, 4.047456094, 7.3866624960000005, 5.413624737, 7.470716531, 7.982110217000001, 4.73781408, 4.206453043, 5.478604805, 4.824520281, 5.59960061, 6.866795217000001, 3.085671366, 7.771810942999999, 3.687794435, 5.360356685, 5.140446739, 6.045445681, 6.83392094, 3.6207694630000002, 3.9894305830000003, 5.3118245, 4.60821348, 6.640584716, 3.055188854, 7.492564164, 5.485078177999999, 3.897794997, 5.976245114, 5.447061561, 5.377034117000001, 4.6908057880000005, 4.711640491, 3.629919329, 5.957668076, 5.357121284, 3.849235283, 6.250507136, 7.122243357, 3.399404234, 3.510556672, 4.100997604, 4.0963821000000005, 6.233583075, 3.939488527, 3.925445077, 6.118132501, 3.9404503460000004, 7.583015573, 3.513202145], \"theta\": [-30.35294436, -25.61145985, -12.42522745, 13.96138052, -4.950932841, -25.69227419, 12.46876416, -4.9137641069999995, -10.96738029, 30.81419405, 2.474959431, 17.97554375, 0.771130593, 6.1374884860000005, -14.45196357, 28.18453411, 12.53868007, -8.983230337, 5.231285165, -64.48900254, 11.35748668, 3.4540747919999997, 13.92434661, -25.36400205, -16.81800639, -10.26005103, -13.21213413, 2.579338865, 8.717574966, -10.67549872, -2.926366013, 25.19588075, 40.59032932, -9.12143363, -24.29736238, -3.1769445060000003, 10.85049842, -31.33205975, 4.8495674619999996, 15.04827695, 3.295104699, -6.197091873, -8.778574136, 29.54917412, -5.137448793, 23.02686049, -6.634816578, 2.755014992, 21.73325011, -24.81699496, -7.830547062999999, 28.32579621, 12.30097747, -21.56315724, -19.33551628, 26.14644317, -1.706071203, 16.0717237, 2.053266303, -5.097911612], \"type\": \"scatterpolargl\"}, {\"marker\": {\"color\": \"darkorange\", \"line\": {\"color\": \"white\"}, \"opacity\": 0.7, \"size\": 20}, \"mode\": \"markers\", \"name\": \"Trial 2\", \"r\": [3.488043923, 2.918478576, 4.20182736, 8.227324607, 4.776690427, 3.041912303, 4.789947719, 5.66388078, 3.858262393, 8.260212881000001, 6.868624486, 5.740197599999999, 6.594979282000001, 5.692703777999999, 5.337916573999999, 9.283604185, 5.764590892999999, 4.028864552, 5.662344748, 0.42283723100000004, 6.201266464, 6.439265381, 5.096758513, 4.632081909, 3.421846136, 4.369404703, 4.028334419, 5.805767198, 6.848189921, 3.809295513, 4.385268184, 6.983326846000001, 7.396273186, 5.215125003, 3.0861487789999997, 6.335394491000001, 6.090414714, 2.448056007, 5.94278402, 6.373129886, 5.454205341000001, 4.393337617, 4.20594468, 6.1555422879999995, 5.119087171, 6.8698608310000004, 4.1045998610000005, 5.954348126, 8.092332877, 2.961769705, 3.974012188, 6.373384129, 5.415409143, 3.87689092, 3.261446947, 6.14580853, 5.502451987000001, 5.571553295, 6.853049261000001, 4.140355075], \"theta\": [14.80662578, 79.00634037, 49.02206554, 49.69908314, 54.13749108, 86.41932102, 96.95239194, 41.46348826, 67.13769169, 68.06103944, 42.68193032, 76.39865661, 42.19479347, 59.57788897, 27.510866800000002, 60.75344483, 68.3708328, 65.74802815, 58.53300837, -176.7441065, 61.17401858, 47.45150859, 84.42665319, 12.47934655, 72.48080276, 50.57883176, 51.56022824, 52.43785618, 51.58682799, 73.87294478, 70.21705693, 70.71429915, 82.23439443, 38.93539045, 84.70936667, 38.16582844, 61.70405365, 70.19695629, 54.45429259, 64.33489497, 58.27389315, 60.49982239, 59.15523254, 83.86561847, 47.8734099, 69.28260157, 71.18991043, 51.04839646, 59.42758242, 78.59873696, 75.75586452, 79.97048372, 73.89378025, 31.73341113, 68.08475118, 80.41107998, 48.92425071, 76.65025576, 42.18286436, 76.03333589], \"type\": \"scatterpolargl\"}, {\"marker\": {\"color\": \"mediumpurple\", \"line\": {\"color\": \"white\"}, \"opacity\": 0.7, \"size\": 12}, \"mode\": \"markers\", \"name\": \"Trial 3\", \"r\": [1.855870835, 5.286962062, 3.8860133919999997, 6.282863312999999, 4.453414848, 5.688008051000001, 7.3308642829999995, 3.825660595, 4.9896041769999995, 7.89743147, 4.656693113, 6.667153696000001, 4.431006287, 5.346113253, 2.479945696, 8.113477349, 6.081311682000001, 4.968216896, 5.244453921, 5.422207884, 5.792774616, 4.787580592, 6.784318637, 1.108936909, 5.138911105, 4.042929657, 4.02289203, 4.828428791, 5.417378374, 5.378635211000001, 5.421097175, 7.120561979, 8.34930854, 3.4104855880000002, 5.628378471, 3.9149369760000003, 5.763940262, 4.764374107, 5.076236268, 6.165558183, 5.105576516, 4.761036377, 4.596249541000001, 7.504188411, 4.107031418, 6.920422299, 5.34912895, 4.798065718999999, 7.023251532000001, 5.283680965, 5.569071152, 7.383794908, 6.26923321, 2.656529645, 4.8439843389999995, 7.247992362000001, 4.3729593939999996, 6.570981081, 4.6024792439999995, 5.670052051], \"theta\": [151.29425519999998, 147.188025, 125.2821571, 87.06729797, 119.62789840000002, 147.7408241, 139.56459809999998, 101.3914971, 134.5601843, 104.0244447, 89.39314294, 123.1940314, 91.47434052, 113.3323736, 96.14992557, 93.28073452, 118.2155652, 132.3229374, 112.9411864, -179.7462331, 110.30351359999999, 97.75083617, 131.6080893, 115.49691920000001, 140.5811822, 123.3966621, 128.34200900000002, 107.60881040000001, 97.90468979, 137.128448, 130.4312449, 112.2270845, 118.63020220000001, 106.0582256, 146.90810969999998, 90.27734956, 111.5052824, 151.0897425, 107.7213942, 111.300855, 114.68027790000001, 126.5693795, 128.21895220000002, 125.3548572, 112.4180683, 111.7973557, 133.4180523, 105.18411680000001, 97.23103612, 146.6680368, 136.23931519999996, 121.7918442, 123.911328, 129.862245, 141.3439509, 123.27096770000001, 108.4588217, 124.4123771, 89.02711074, 134.8767011], \"type\": \"scatterpolargl\"}, {\"marker\": {\"color\": \"magenta\", \"line\": {\"color\": \"white\"}, \"opacity\": 0.7, \"size\": 22}, \"mode\": \"markers\", \"name\": \"Trial 4\", \"r\": [5.372470924, 7.096355572, 4.883823903, 2.920135441, 4.723963046000001, 7.423693951000001, 8.090946075, 3.3068445910000004, 6.050828482999999, 5.530232074, 2.472306953, 6.275670537000001, 2.615896174, 4.653539945, 3.3354400139999996, 4.795883605, 5.4727113460000005, 5.881930491, 4.571587072, 9.03986117, 4.642907599999999, 3.1727677360000004, 7.044248139, 4.466336514, 6.55733029, 4.820849437, 5.131915515, 3.9700122369999997, 3.406323813, 6.4767229639999995, 6.019218509, 5.664501535, 7.1587585229999995, 3.600712662, 7.324127169, 2.552946156, 4.72713386, 6.971755207, 4.076578361, 4.946223407, 4.642155449, 5.360574864, 5.391719067, 7.072524305, 4.10111157, 5.485732621, 6.192535286, 3.7687113919999997, 4.29031139, 7.06019537, 6.539691844, 6.679744406, 6.060825359, 4.786574041000001, 6.41668653, 6.703281333, 3.88884781, 6.308591081, 2.437044771, 6.508186348], \"theta\": [-140.2033276, -168.08424540000001, -166.28514130000002, 138.2488668, -174.4243864, -169.96048280000002, 176.9918227, -169.90141619999997, -172.6415816, 142.95166880000002, 172.41574640000002, 168.5193592, 177.82205369999997, 172.8551903, -146.0145217, 128.177293, 169.1670728, -173.5885738, 173.72699269999998, -151.20610480000002, 166.2604772, 172.5075661, 173.9491839, -131.8068409, -170.63527380000002, -168.5770855, -166.7655034, 176.07048730000002, 162.29750149999998, -174.0557463, -178.06092990000002, 156.4712689, 155.23914209999998, -163.00052639999998, -170.11671330000001, -170.6392725, 167.3831437, -163.0988171, 172.880737, 163.3860077, 176.18254199999998, -174.57968019999998, -172.3358449, 165.3380257, -172.52566430000002, 157.54287769999996, -175.8815111, 175.427644, 142.0696747, -168.340734, -175.8058311, 163.06374540000002, 171.720975, -151.40390459999998, -168.2713691, 165.04532790000002, -177.3153367, 170.0424129, 173.5991966, -177.25065669999998], \"type\": \"scatterpolargl\"}, {\"marker\": {\"color\": \"limegreen\", \"line\": {\"color\": \"white\"}, \"opacity\": 0.7, \"size\": 19}, \"mode\": \"markers\", \"name\": \"Trial 5\", \"r\": [7.937557871, 7.302746492000001, 5.929302221, 2.407178713, 5.270921887, 7.400596127999999, 6.810820337999999, 4.967759034, 6.19022937, 2.158518658, 4.0041258939999995, 4.776617322, 4.232250452, 4.307654873, 6.200275173, 0.727513849, 4.378006804, 6.004964939, 4.341931703, 10.23798294, 3.8021588889999998, 3.96928117, 5.758980142, 7.674179069, 6.6999535329999995, 5.734310388, 6.044275915, 4.312943066, 3.377545282, 6.3676667270000005, 5.737244182, 3.396351472, 4.2164674810000005, 5.464885017, 7.311135577999999, 4.745400769, 3.9164685319999997, 7.60297299, 4.125204828999999, 3.67679495, 4.551235789, 5.606960532, 5.794844257, 5.030528156, 5.109586241000001, 3.405440208, 6.026306125, 4.221109264, 1.909782937, 7.2546693939999995, 6.268875872000001, 4.5625805669999995, 4.918057965, 6.836560962999999, 6.786486549, 4.751014334, 4.719926348, 4.927805215, 4.059190587, 6.128338984], \"theta\": [-101.8337858, -127.4783916, -112.244285, -82.32591087, -114.68885559999998, -130.53786340000002, -145.010265, -98.74884501, -124.44174879999998, -152.45411930000003, -89.29423655, -139.8324517, -91.54359518, -119.442163, -92.45583853, -129.6599243, -131.0512351, -123.8529175, -118.086739, -121.97921709999999, -121.91503, -99.36184758, -141.467702, -93.56626319, -126.3369014, -112.83494420000001, -114.38647990000001, -109.7960723, -102.7432647, -128.24672890000002, -127.7920926, -142.47362969999998, -161.58729419999997, -99.94061078, -130.16311729999998, -90.22881201, -122.6504912, -123.2677506, -111.9973088, -127.52831680000001, -117.9312953, -120.3916342, -119.38687150000001, -149.6746955, -107.85051750000001, -138.9899313, -127.59547020000001, -107.3208354, -117.5738074, -127.48166100000002, -129.9120332, -148.4952117, -135.33164140000002, -104.4216593, -123.8754402, -146.81682659999998, -107.05848540000001, -138.9025649, -88.89688252, -130.7544674], \"type\": \"scatterpolargl\"}, {\"marker\": {\"color\": \"gold\", \"line\": {\"color\": \"white\"}, \"opacity\": 0.7, \"size\": 10}, \"mode\": \"markers\", \"name\": \"Trial 6\", \"r\": [8.469180527999999, 5.821997567, 6.140918328, 5.831724285, 5.546754472000001, 5.6274877089999995, 3.9483289760000004, 6.490184615, 5.320618245, 3.2435930410000005, 6.444085332, 3.3637781010000003, 6.463116811, 4.730944926, 7.7965784110000005, 4.57012783, 3.926206816, 5.25434814, 4.838411107, 8.694523999, 4.399531818, 5.856483905, 3.621577039, 8.894912373, 5.494542836, 5.968980891, 6.047899574, 5.384671397000001, 5.381220018, 5.111574623, 4.770561105, 3.098330883, 1.665083172, 6.7402585329999996, 5.594494929, 6.8796308260000005, 4.382792466000001, 6.410843616, 5.154204318000001, 4.015158519, 4.939148868, 5.298297314, 5.490417177, 2.623751259, 5.9535886620000005, 3.3014793719999997, 4.954889001000001, 5.50005367, 4.45051235, 5.786624513, 4.9068344239999995, 2.629969473, 3.769703608, 7.396735716, 5.764481902000001, 2.7945851960000003, 5.78203327, 3.485351918, 6.500653599, 4.74864071], \"theta\": [-66.53583633, -84.51442268, -63.339741700000005, -24.14681274, -59.70124532, -88.06537268, -98.44420454, -49.15839682, -73.63622331, -17.92387468, -38.41239945, -66.34036238, -40.88883874, -52.46063321, -52.61046256, -7.039351051000001, -57.23545869, -71.64220350000001, -52.34539617, -92.78303867, -47.18716306, -41.96920846, -82.14422825, -59.439165599999995, -79.19482259, -62.29990854, -65.53790404, -48.90605545, -37.74831104, -78.05333346, -71.87311766, -41.89109283, -53.11545549, -52.99762809999999, -87.08436102, -43.61190484, -48.79799841, -82.56680316, -47.909963, -46.57048559, -54.50048322, -65.90072713, -66.87331746, -75.48080725, -54.77769387, -42.59833459, -74.50816627, -47.11021844, -22.35687318, -84.19298675, -78.50528476, -65.03637179, -66.51373368, -63.52677656, -77.80907855, -68.51017974, -51.29686931, -68.33991303, -38.63173307, -77.85184859], \"type\": \"scatterpolargl\"}],\n",
              "                        {\"font\": {\"size\": 15}, \"paper_bgcolor\": \"rgb(223, 223, 223)\", \"polar\": {\"angularaxis\": {\"linecolor\": \"black\", \"linewidth\": 3, \"showline\": true}, \"bgcolor\": \"rgb(223, 223, 223)\", \"radialaxis\": {\"gridcolor\": \"white\", \"gridwidth\": 2, \"linewidth\": 2, \"showline\": true, \"side\": \"counterclockwise\"}}, \"showlegend\": false, \"template\": {\"data\": {\"bar\": [{\"error_x\": {\"color\": \"#2a3f5f\"}, \"error_y\": {\"color\": \"#2a3f5f\"}, \"marker\": {\"line\": {\"color\": \"#E5ECF6\", \"width\": 0.5}}, \"type\": \"bar\"}], \"barpolar\": [{\"marker\": {\"line\": {\"color\": \"#E5ECF6\", \"width\": 0.5}}, \"type\": \"barpolar\"}], \"carpet\": [{\"aaxis\": {\"endlinecolor\": \"#2a3f5f\", \"gridcolor\": \"white\", \"linecolor\": \"white\", \"minorgridcolor\": \"white\", \"startlinecolor\": \"#2a3f5f\"}, \"baxis\": {\"endlinecolor\": \"#2a3f5f\", \"gridcolor\": \"white\", \"linecolor\": \"white\", \"minorgridcolor\": \"white\", \"startlinecolor\": \"#2a3f5f\"}, \"type\": \"carpet\"}], \"choropleth\": [{\"colorbar\": {\"outlinewidth\": 0, \"ticks\": \"\"}, \"type\": \"choropleth\"}], \"contour\": [{\"colorbar\": {\"outlinewidth\": 0, \"ticks\": \"\"}, \"colorscale\": [[0.0, \"#0d0887\"], [0.1111111111111111, \"#46039f\"], [0.2222222222222222, \"#7201a8\"], [0.3333333333333333, \"#9c179e\"], [0.4444444444444444, \"#bd3786\"], [0.5555555555555556, \"#d8576b\"], [0.6666666666666666, \"#ed7953\"], [0.7777777777777778, \"#fb9f3a\"], [0.8888888888888888, \"#fdca26\"], [1.0, \"#f0f921\"]], \"type\": \"contour\"}], \"contourcarpet\": [{\"colorbar\": {\"outlinewidth\": 0, \"ticks\": \"\"}, \"type\": \"contourcarpet\"}], \"heatmap\": [{\"colorbar\": {\"outlinewidth\": 0, \"ticks\": \"\"}, \"colorscale\": [[0.0, \"#0d0887\"], [0.1111111111111111, \"#46039f\"], [0.2222222222222222, \"#7201a8\"], [0.3333333333333333, \"#9c179e\"], [0.4444444444444444, \"#bd3786\"], [0.5555555555555556, \"#d8576b\"], [0.6666666666666666, \"#ed7953\"], [0.7777777777777778, \"#fb9f3a\"], [0.8888888888888888, \"#fdca26\"], [1.0, \"#f0f921\"]], \"type\": \"heatmap\"}], \"heatmapgl\": [{\"colorbar\": {\"outlinewidth\": 0, \"ticks\": \"\"}, \"colorscale\": [[0.0, \"#0d0887\"], [0.1111111111111111, \"#46039f\"], [0.2222222222222222, \"#7201a8\"], [0.3333333333333333, \"#9c179e\"], [0.4444444444444444, \"#bd3786\"], [0.5555555555555556, \"#d8576b\"], [0.6666666666666666, \"#ed7953\"], [0.7777777777777778, \"#fb9f3a\"], [0.8888888888888888, \"#fdca26\"], [1.0, \"#f0f921\"]], \"type\": \"heatmapgl\"}], \"histogram\": [{\"marker\": {\"colorbar\": {\"outlinewidth\": 0, \"ticks\": \"\"}}, \"type\": \"histogram\"}], \"histogram2d\": [{\"colorbar\": {\"outlinewidth\": 0, \"ticks\": \"\"}, \"colorscale\": [[0.0, \"#0d0887\"], [0.1111111111111111, \"#46039f\"], [0.2222222222222222, \"#7201a8\"], [0.3333333333333333, \"#9c179e\"], [0.4444444444444444, \"#bd3786\"], [0.5555555555555556, \"#d8576b\"], [0.6666666666666666, \"#ed7953\"], [0.7777777777777778, \"#fb9f3a\"], [0.8888888888888888, \"#fdca26\"], [1.0, \"#f0f921\"]], \"type\": \"histogram2d\"}], \"histogram2dcontour\": [{\"colorbar\": {\"outlinewidth\": 0, \"ticks\": \"\"}, \"colorscale\": [[0.0, \"#0d0887\"], [0.1111111111111111, \"#46039f\"], [0.2222222222222222, \"#7201a8\"], [0.3333333333333333, \"#9c179e\"], [0.4444444444444444, \"#bd3786\"], [0.5555555555555556, \"#d8576b\"], [0.6666666666666666, \"#ed7953\"], [0.7777777777777778, \"#fb9f3a\"], [0.8888888888888888, \"#fdca26\"], [1.0, \"#f0f921\"]], \"type\": \"histogram2dcontour\"}], \"mesh3d\": [{\"colorbar\": {\"outlinewidth\": 0, \"ticks\": \"\"}, \"type\": \"mesh3d\"}], \"parcoords\": [{\"line\": {\"colorbar\": {\"outlinewidth\": 0, \"ticks\": \"\"}}, \"type\": \"parcoords\"}], \"pie\": [{\"automargin\": true, \"type\": \"pie\"}], \"scatter\": [{\"marker\": {\"colorbar\": {\"outlinewidth\": 0, \"ticks\": \"\"}}, \"type\": \"scatter\"}], \"scatter3d\": [{\"line\": {\"colorbar\": {\"outlinewidth\": 0, \"ticks\": \"\"}}, \"marker\": {\"colorbar\": {\"outlinewidth\": 0, \"ticks\": \"\"}}, \"type\": \"scatter3d\"}], \"scattercarpet\": [{\"marker\": {\"colorbar\": {\"outlinewidth\": 0, \"ticks\": \"\"}}, \"type\": \"scattercarpet\"}], \"scattergeo\": [{\"marker\": {\"colorbar\": {\"outlinewidth\": 0, \"ticks\": \"\"}}, \"type\": \"scattergeo\"}], \"scattergl\": [{\"marker\": {\"colorbar\": {\"outlinewidth\": 0, \"ticks\": \"\"}}, \"type\": \"scattergl\"}], \"scattermapbox\": [{\"marker\": {\"colorbar\": {\"outlinewidth\": 0, \"ticks\": \"\"}}, \"type\": \"scattermapbox\"}], \"scatterpolar\": [{\"marker\": {\"colorbar\": {\"outlinewidth\": 0, \"ticks\": \"\"}}, \"type\": \"scatterpolar\"}], \"scatterpolargl\": [{\"marker\": {\"colorbar\": {\"outlinewidth\": 0, \"ticks\": \"\"}}, \"type\": \"scatterpolargl\"}], \"scatterternary\": [{\"marker\": {\"colorbar\": {\"outlinewidth\": 0, \"ticks\": \"\"}}, \"type\": \"scatterternary\"}], \"surface\": [{\"colorbar\": {\"outlinewidth\": 0, \"ticks\": \"\"}, \"colorscale\": [[0.0, \"#0d0887\"], [0.1111111111111111, \"#46039f\"], [0.2222222222222222, \"#7201a8\"], [0.3333333333333333, \"#9c179e\"], [0.4444444444444444, \"#bd3786\"], [0.5555555555555556, \"#d8576b\"], [0.6666666666666666, \"#ed7953\"], [0.7777777777777778, \"#fb9f3a\"], [0.8888888888888888, \"#fdca26\"], [1.0, \"#f0f921\"]], \"type\": \"surface\"}], \"table\": [{\"cells\": {\"fill\": {\"color\": \"#EBF0F8\"}, \"line\": {\"color\": \"white\"}}, \"header\": {\"fill\": {\"color\": \"#C8D4E3\"}, \"line\": {\"color\": \"white\"}}, \"type\": \"table\"}]}, \"layout\": {\"annotationdefaults\": {\"arrowcolor\": \"#2a3f5f\", \"arrowhead\": 0, \"arrowwidth\": 1}, \"coloraxis\": {\"colorbar\": {\"outlinewidth\": 0, \"ticks\": \"\"}}, \"colorscale\": {\"diverging\": [[0, \"#8e0152\"], [0.1, \"#c51b7d\"], [0.2, \"#de77ae\"], [0.3, \"#f1b6da\"], [0.4, \"#fde0ef\"], [0.5, \"#f7f7f7\"], [0.6, \"#e6f5d0\"], [0.7, \"#b8e186\"], [0.8, \"#7fbc41\"], [0.9, \"#4d9221\"], [1, \"#276419\"]], \"sequential\": [[0.0, \"#0d0887\"], [0.1111111111111111, \"#46039f\"], [0.2222222222222222, \"#7201a8\"], [0.3333333333333333, \"#9c179e\"], [0.4444444444444444, \"#bd3786\"], [0.5555555555555556, \"#d8576b\"], [0.6666666666666666, \"#ed7953\"], [0.7777777777777778, \"#fb9f3a\"], [0.8888888888888888, \"#fdca26\"], [1.0, \"#f0f921\"]], \"sequentialminus\": [[0.0, \"#0d0887\"], [0.1111111111111111, \"#46039f\"], [0.2222222222222222, \"#7201a8\"], [0.3333333333333333, \"#9c179e\"], [0.4444444444444444, \"#bd3786\"], [0.5555555555555556, \"#d8576b\"], [0.6666666666666666, \"#ed7953\"], [0.7777777777777778, \"#fb9f3a\"], [0.8888888888888888, \"#fdca26\"], [1.0, \"#f0f921\"]]}, \"colorway\": [\"#636efa\", \"#EF553B\", \"#00cc96\", \"#ab63fa\", \"#FFA15A\", \"#19d3f3\", \"#FF6692\", \"#B6E880\", \"#FF97FF\", \"#FECB52\"], \"font\": {\"color\": \"#2a3f5f\"}, \"geo\": {\"bgcolor\": \"white\", \"lakecolor\": \"white\", \"landcolor\": \"#E5ECF6\", \"showlakes\": true, \"showland\": true, \"subunitcolor\": \"white\"}, \"hoverlabel\": {\"align\": \"left\"}, \"hovermode\": \"closest\", \"mapbox\": {\"style\": \"light\"}, \"paper_bgcolor\": \"white\", \"plot_bgcolor\": \"#E5ECF6\", \"polar\": {\"angularaxis\": {\"gridcolor\": \"white\", \"linecolor\": \"white\", \"ticks\": \"\"}, \"bgcolor\": \"#E5ECF6\", \"radialaxis\": {\"gridcolor\": \"white\", \"linecolor\": \"white\", \"ticks\": \"\"}}, \"scene\": {\"xaxis\": {\"backgroundcolor\": \"#E5ECF6\", \"gridcolor\": \"white\", \"gridwidth\": 2, \"linecolor\": \"white\", \"showbackground\": true, \"ticks\": \"\", \"zerolinecolor\": \"white\"}, \"yaxis\": {\"backgroundcolor\": \"#E5ECF6\", \"gridcolor\": \"white\", \"gridwidth\": 2, \"linecolor\": \"white\", \"showbackground\": true, \"ticks\": \"\", \"zerolinecolor\": \"white\"}, \"zaxis\": {\"backgroundcolor\": \"#E5ECF6\", \"gridcolor\": \"white\", \"gridwidth\": 2, \"linecolor\": \"white\", \"showbackground\": true, \"ticks\": \"\", \"zerolinecolor\": \"white\"}}, \"shapedefaults\": {\"line\": {\"color\": \"#2a3f5f\"}}, \"ternary\": {\"aaxis\": {\"gridcolor\": \"white\", \"linecolor\": \"white\", \"ticks\": \"\"}, \"baxis\": {\"gridcolor\": \"white\", \"linecolor\": \"white\", \"ticks\": \"\"}, \"bgcolor\": \"#E5ECF6\", \"caxis\": {\"gridcolor\": \"white\", \"linecolor\": \"white\", \"ticks\": \"\"}}, \"title\": {\"x\": 0.05}, \"xaxis\": {\"automargin\": true, \"gridcolor\": \"white\", \"linecolor\": \"white\", \"ticks\": \"\", \"title\": {\"standoff\": 15}, \"zerolinecolor\": \"white\", \"zerolinewidth\": 2}, \"yaxis\": {\"automargin\": true, \"gridcolor\": \"white\", \"linecolor\": \"white\", \"ticks\": \"\", \"title\": {\"standoff\": 15}, \"zerolinecolor\": \"white\", \"zerolinewidth\": 2}}}, \"title\": {\"text\": \"Hobbs-Pearson Trials\"}},\n",
              "                        {\"responsive\": true}\n",
              "                    ).then(function(){\n",
              "                            \n",
              "var gd = document.getElementById('c85d75e2-de89-4bc6-851a-9437fb0ec90a');\n",
              "var x = new MutationObserver(function (mutations, observer) {{\n",
              "        var display = window.getComputedStyle(gd).display;\n",
              "        if (!display || display === 'none') {{\n",
              "            console.log([gd, 'removed!']);\n",
              "            Plotly.purge(gd);\n",
              "            observer.disconnect();\n",
              "        }}\n",
              "}});\n",
              "\n",
              "// Listen for the removal of the full notebook cells\n",
              "var notebookContainer = gd.closest('#notebook-container');\n",
              "if (notebookContainer) {{\n",
              "    x.observe(notebookContainer, {childList: true});\n",
              "}}\n",
              "\n",
              "// Listen for the clearing of the current output cell\n",
              "var outputEl = gd.closest('.output');\n",
              "if (outputEl) {{\n",
              "    x.observe(outputEl, {childList: true});\n",
              "}}\n",
              "\n",
              "                        })\n",
              "                };\n",
              "                \n",
              "            </script>\n",
              "        </div>\n",
              "</body>\n",
              "</html>"
            ]
          },
          "metadata": {
            "tags": []
          }
        }
      ]
    }
  ]
}