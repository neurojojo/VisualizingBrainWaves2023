{
  "nbformat": 4,
  "nbformat_minor": 0,
  "metadata": {
    "colab": {
      "name": "Copy of Copy of Visualizing_Brain_Waves_EEG Data",
      "provenance": [],
      "include_colab_link": true
    },
    "kernelspec": {
      "name": "python3",
      "display_name": "Python 3"
    },
    "language_info": {
      "name": "python"
    }
  },
  "cells": [
    {
      "cell_type": "markdown",
      "metadata": {
        "id": "view-in-github",
        "colab_type": "text"
      },
      "source": [
        "<a href=\"https://colab.research.google.com/github/pkoneill/VisualizingBrainWaves/blob/main/Visualizing_Brain_Waves_EEG_Data.ipynb\" target=\"_parent\"><img src=\"https://colab.research.google.com/assets/colab-badge.svg\" alt=\"Open In Colab\"/></a>"
      ]
    },
    {
      "cell_type": "markdown",
      "metadata": {
        "id": "kNPiKgfuxpAA"
      },
      "source": [
        "# Background\n",
        "It's time to put everything that we've learned today together! You'll be working with data collected just yesterday from a 2-channel EEG (the one you saw in the live demo). We made this EEG using this [Instructables](https://www.instructables.com/DIY-EEG-and-ECG-Circuit/) and you can too!\n",
        "\n",
        "<img src='https://github.com/pkoneill/VisualizingBrainWaves/blob/main/EEGs v1 v2.png?raw=1' width=400px>\n"
      ]
    },
    {
      "cell_type": "markdown",
      "metadata": {
        "id": "3mbaHQ1NyF5o"
      },
      "source": [
        "# Objectives\n",
        "\n",
        "In this tutorial, you will learn how to import data files that contain EEG signals collected from a human subject when:\n",
        "\n",
        "\n",
        "*   Subject's eyes are open and they are watching Youtube videos (9 trials)\n",
        "\n",
        "*   Subject's eyes are closed and they're practicing meditation (9 trials)\n",
        "\n",
        "But the labels 'open' or 'closed' were lost in an unfortunate reboot incident :}! Your goal is to determine which of the trials correspond to each state (some are perhaps indistinguishable). \n"
      ]
    },
    {
      "cell_type": "markdown",
      "metadata": {
        "id": "XMBKE4N07I29"
      },
      "source": [
        "\n",
        "## Imports and helper functions\n",
        "We'll  begin by importing some Python packages needed for this session. Please execute the cells below to initialize the notebook environment.\n"
      ]
    },
    {
      "cell_type": "code",
      "metadata": {
        "id": "-km1zOs27SLd",
        "cellView": "form"
      },
      "source": [
        "#@title Import packages\n",
        "%matplotlib inline\n",
        "from matplotlib import pyplot as plt\n",
        "import numpy as np\n",
        "import pandas as pd\n",
        "import plotly.graph_objects as go"
      ],
      "execution_count": null,
      "outputs": []
    },
    {
      "cell_type": "code",
      "metadata": {
        "id": "9SMTj-zO7bxB",
        "cellView": "form"
      },
      "source": [
        "#@title Figure Settings\n",
        "%config InlineBackend.figure_format = 'retina'\n",
        "\n",
        "plt.style.use(\"https://raw.githubusercontent.com/pkoneill/VisualizingBrainWaves/master/mplsettings\")\n",
        "\n",
        "def setup_graph(title='', x_label='', y_label='', fig_size=None):\n",
        "\n",
        "    # Set DPI >=150 for readability and adjust figsize\n",
        "    fig = plt.figure( figsize=(3,1.5), dpi=150 )\n",
        "\n",
        "    if fig_size != None:\n",
        "        fig.set_size_inches(fig_size[0], fig_size[1] )\n",
        "    ax = fig.add_subplot(111)\n",
        "    ax.set_title(title)\n",
        "    ax.set_xlabel(x_label)\n",
        "    ax.set_ylabel(y_label)\n",
        "    ax.spines['top'].set_visible(False)\n",
        "    ax.spines['right'].set_visible(False)\n",
        "\n",
        "    plt.tight_layout() # To ensure everything fits"
      ],
      "execution_count": null,
      "outputs": []
    },
    {
      "cell_type": "code",
      "source": [
        "#@title Custom EEG FFT code and data loading\n",
        "# Custom EEG FFT function #\n",
        "def eegfft( input ):\n",
        "  fft_output = np.fft.rfft( input )\n",
        "  magnitude = [np.sqrt(i.real**2+i.imag**2)/len(fft_output) for i in fft_output]\n",
        "  \n",
        "  return magnitude\n",
        "\n",
        "#Import data into a table (manually)\n",
        "alert_eeg = pd.read_csv('https://raw.githubusercontent.com/pkoneill/VisualizingBrainWaves/main/EEG%20Data/Data0.csv',header=None).iloc[:,1].values\n",
        "resting_eeg = pd.read_csv('https://raw.githubusercontent.com/pkoneill/VisualizingBrainWaves/main/EEG%20Data/Data17.csv',header=None).iloc[:,1].values\n",
        "\n",
        "#@title Import more data\n",
        "#Import data into a table (Pythonic, using a list comprehension)\n",
        "all_data = [ pd.read_csv(f'https://raw.githubusercontent.com/pkoneill/VisualizingBrainWaves/main/EEG%20Data/Data{i}.csv',header=None).iloc[:,1].values for i in range( 16 ) ]\n",
        "\n",
        "scrambled_data = list()\n",
        "[ scrambled_data.append( all_data[k] ) for k in [1,10,12,3,7,9] ]\n",
        "\n",
        "alert_eeg = alert_eeg[0:573300]\n",
        "resting_eeg = resting_eeg[0:573300]\n",
        "\n",
        "numSamples = len( alert_eeg )\n",
        "sRate = 44100\n",
        "\n",
        "frequencies = [(i*1.0/numSamples)*sRate for i in range(numSamples//2+1)]"
      ],
      "metadata": {
        "cellView": "form",
        "id": "CpNPGLY9oXYm"
      },
      "execution_count": null,
      "outputs": []
    },
    {
      "cell_type": "markdown",
      "source": [
        "# In the cell below we will plot the first five seconds of the data\n",
        "Using the EEG 44100 data points were recorded each second (WOW, fast!)\n",
        "\n",
        "There are 13 seconds of data in total. Feel free to look at different windows."
      ],
      "metadata": {
        "id": "8CemQrIMxFLF"
      }
    },
    {
      "cell_type": "code",
      "source": [
        "setup_graph(x_label='Time', y_label='Amplitude', \n",
        "            title='Alert EEG', fig_size=(12,4))\n",
        "\n",
        "plt.plot( alert_eeg[0:5*44100] )\n",
        "ax = plt.gca()\n",
        "ax.axes.axis('off')"
      ],
      "metadata": {
        "id": "SuK2fX-Xrg1e"
      },
      "execution_count": null,
      "outputs": []
    },
    {
      "cell_type": "markdown",
      "source": [
        "Now press the + Code button at the top, and type in the code needed to plot the EEG taken from a restful subject.\n",
        "\n",
        "The data is contained in the variable restful_eeg"
      ],
      "metadata": {
        "id": "qKyKUYFFw5Gs"
      }
    },
    {
      "cell_type": "markdown",
      "source": [
        "# In the following section, you will look at six recordings and try to identify whether they are alert or sleepy based on the EEG."
      ],
      "metadata": {
        "id": "UkAbpZXVxxi4"
      }
    },
    {
      "cell_type": "code",
      "source": [
        "plt.figure(figsize=(15,10),dpi=120)\n",
        "\n",
        "for index, this_fft in enumerate(scrambled_data):\n",
        "    plt.subplot(6, 1, index + 1)\n",
        "    plt.plot(scrambled_data[index][0:5*44100])\n",
        "    plt.xlabel('Time')\n",
        "    plt.ylabel('Amplitude')\n",
        "    plt.title('EEG: %i\\n' % index, fontsize = 10)\n",
        "    ax = plt.gca()\n",
        "    ax.axes.axis('off')"
      ],
      "metadata": {
        "id": "bidi-L0Ex8Mh"
      },
      "execution_count": null,
      "outputs": []
    },
    {
      "cell_type": "markdown",
      "source": [
        "# In the next section, we will plot the spectrum instead."
      ],
      "metadata": {
        "id": "wg_KuwM06BaW"
      }
    },
    {
      "cell_type": "code",
      "metadata": {
        "id": "t2h5ICzw4oCH"
      },
      "source": [
        "setup_graph(x_label='frequency [Hz]', y_label='Amplitude', \n",
        "            title='Alert EEG', fig_size=(5,4))\n",
        "\n",
        "magnitude = eegfft( alert_eeg )\n",
        "plt.plot(frequencies, magnitude, 'dodgerblue')\n",
        "plt.xlim(0, 60)"
      ],
      "execution_count": null,
      "outputs": []
    },
    {
      "cell_type": "code",
      "source": [
        "setup_graph(x_label='Frequency [Hz]', y_label='Amplitude', \n",
        "            title='Resting EEG', fig_size=(5,4))\n",
        "\n",
        "magnitude = eegfft( resting_eeg )\n",
        "plt.plot(frequencies, magnitude, 'dodgerblue')\n",
        "# Play with different settings for the xlim to see which frequencies are present\n",
        "plt.xlim(0, 60) # Currently set to 60, but try smaller or larger values as well"
      ],
      "metadata": {
        "id": "lpFIHMQIqZmz"
      },
      "execution_count": null,
      "outputs": []
    },
    {
      "cell_type": "code",
      "metadata": {
        "id": "mR81vWMN3kHM"
      },
      "source": [
        "subset_frequencies = frequencies[0:600]\n",
        "\n",
        "plt.figure(figsize=(5,10),dpi=120)\n",
        "\n",
        "for index, this_fft in enumerate(scrambled_data):\n",
        "    plt.subplot(6, 1, index + 1)\n",
        "    eeg_fft = eegfft(this_fft)\n",
        "    plt.plot(subset_frequencies, eeg_fft[0:600] )\n",
        "    plt.xlabel('Time')\n",
        "    plt.ylabel('Amplitude')\n",
        "    plt.title('EEG: %i\\n' % index, fontsize = 10)\n",
        "    ax = plt.gca()\n",
        "    ax.axes.axis('off')"
      ],
      "execution_count": null,
      "outputs": []
    }
  ]
}